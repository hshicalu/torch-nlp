{
 "cells": [
  {
   "cell_type": "markdown",
   "id": "interim-republic",
   "metadata": {},
   "source": [
    "### データセットをdfに変換する\n",
    "Colabでは実装に30分ほどかかるので、csvに保存しておく"
   ]
  },
  {
   "cell_type": "code",
   "execution_count": 1,
   "id": "anonymous-pearl",
   "metadata": {},
   "outputs": [],
   "source": [
    "import os\n",
    "from glob import glob\n",
    "import pandas as pd\n",
    "import linecache"
   ]
  },
  {
   "cell_type": "code",
   "execution_count": 5,
   "id": "divine-stranger",
   "metadata": {},
   "outputs": [
    {
     "name": "stdout",
     "output_type": "stream",
     "text": [
      "['movie-enter', 'it-life-hack', 'kaden-channel', 'topic-news', 'livedoor-homme', 'peachy', 'sports-watch', 'dokujo-tsushin', 'smax']\n"
     ]
    }
   ],
   "source": [
    "# カテゴリを配列で取得\n",
    "categories = [name for name in os.listdir(\"text/\") if os.path.isdir(\"text/\" + name)]\n",
    "print(categories)"
   ]
  },
  {
   "cell_type": "code",
   "execution_count": 9,
   "id": "surprising-technician",
   "metadata": {},
   "outputs": [
    {
     "name": "stdout",
     "output_type": "stream",
     "text": [
      "text/movie-enter/*.txt\n",
      "text/it-life-hack/*.txt\n",
      "text/kaden-channel/*.txt\n",
      "text/topic-news/*.txt\n",
      "text/livedoor-homme/*.txt\n",
      "text/peachy/*.txt\n",
      "text/sports-watch/*.txt\n",
      "text/dokujo-tsushin/*.txt\n",
      "text/smax/*.txt\n"
     ]
    },
    {
     "data": {
      "text/html": [
       "<div>\n",
       "<style scoped>\n",
       "    .dataframe tbody tr th:only-of-type {\n",
       "        vertical-align: middle;\n",
       "    }\n",
       "\n",
       "    .dataframe tbody tr th {\n",
       "        vertical-align: top;\n",
       "    }\n",
       "\n",
       "    .dataframe thead th {\n",
       "        text-align: right;\n",
       "    }\n",
       "</style>\n",
       "<table border=\"1\" class=\"dataframe\">\n",
       "  <thead>\n",
       "    <tr style=\"text-align: right;\">\n",
       "      <th></th>\n",
       "      <th>title</th>\n",
       "      <th>category</th>\n",
       "    </tr>\n",
       "  </thead>\n",
       "  <tbody>\n",
       "    <tr>\n",
       "      <th>0</th>\n",
       "      <td>テレビ放送禁止の「お蔵入り恐怖映像」をウェブで公開\\n</td>\n",
       "      <td>movie-enter</td>\n",
       "    </tr>\n",
       "    <tr>\n",
       "      <th>1</th>\n",
       "      <td>ZTE、Intel製「Atom」搭載のAndroidスマートフォン「ZTE Grand X ...</td>\n",
       "      <td>smax</td>\n",
       "    </tr>\n",
       "    <tr>\n",
       "      <th>2</th>\n",
       "      <td>なぜモテない？！料理男子\\n</td>\n",
       "      <td>dokujo-tsushin</td>\n",
       "    </tr>\n",
       "    <tr>\n",
       "      <th>3</th>\n",
       "      <td>子どもだけにはもったいない！　トイストーリーの世界を体験できそうなカメラ付きミニカー【話題】\\n</td>\n",
       "      <td>kaden-channel</td>\n",
       "    </tr>\n",
       "    <tr>\n",
       "      <th>4</th>\n",
       "      <td>女の本音全開！「彼氏にドン引きした○○な瞬間」\\n</td>\n",
       "      <td>dokujo-tsushin</td>\n",
       "    </tr>\n",
       "  </tbody>\n",
       "</table>\n",
       "</div>"
      ],
      "text/plain": [
       "                                               title        category\n",
       "0                        テレビ放送禁止の「お蔵入り恐怖映像」をウェブで公開\\n     movie-enter\n",
       "1  ZTE、Intel製「Atom」搭載のAndroidスマートフォン「ZTE Grand X ...            smax\n",
       "2                                     なぜモテない？！料理男子\\n  dokujo-tsushin\n",
       "3   子どもだけにはもったいない！　トイストーリーの世界を体験できそうなカメラ付きミニカー【話題】\\n   kaden-channel\n",
       "4                          女の本音全開！「彼氏にドン引きした○○な瞬間」\\n  dokujo-tsushin"
      ]
     },
     "execution_count": 9,
     "metadata": {},
     "output_type": "execute_result"
    }
   ],
   "source": [
    "datasets = pd.DataFrame(columns=[\"title\", \"category\"])\n",
    "for cat in categories:\n",
    "    path = \"text/\" + cat + \"/*.txt\"\n",
    "    print(path)\n",
    "    files = glob(path)\n",
    "    for text_name in files:\n",
    "        title = linecache.getline(text_name, 3)\n",
    "        s = pd.Series([title, cat], index=datasets.columns)\n",
    "        datasets = datasets.append(s, ignore_index=True)\n",
    "\n",
    "# データフレームシャッフル\n",
    "datasets = datasets.sample(frac=1).reset_index(drop=True)\n",
    "datasets.head()"
   ]
  },
  {
   "cell_type": "code",
   "execution_count": 12,
   "id": "better-penguin",
   "metadata": {},
   "outputs": [
    {
     "data": {
      "text/plain": [
       "7376"
      ]
     },
     "execution_count": 12,
     "metadata": {},
     "output_type": "execute_result"
    }
   ],
   "source": [
    "len(datasets)"
   ]
  },
  {
   "cell_type": "code",
   "execution_count": 13,
   "id": "extended-manitoba",
   "metadata": {},
   "outputs": [],
   "source": [
    "datasets.to_csv(\"datasets.csv\")"
   ]
  },
  {
   "cell_type": "code",
   "execution_count": null,
   "id": "iraqi-isolation",
   "metadata": {},
   "outputs": [],
   "source": []
  }
 ],
 "metadata": {
  "kernelspec": {
   "display_name": "Python 3",
   "language": "python",
   "name": "python3"
  },
  "language_info": {
   "codemirror_mode": {
    "name": "ipython",
    "version": 3
   },
   "file_extension": ".py",
   "mimetype": "text/x-python",
   "name": "python",
   "nbconvert_exporter": "python",
   "pygments_lexer": "ipython3",
   "version": "3.8.8"
  }
 },
 "nbformat": 4,
 "nbformat_minor": 5
}
